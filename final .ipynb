{
 "cells": [
  {
   "cell_type": "code",
   "execution_count": 1,
   "id": "16b585ff-2fe2-4489-a67b-6c64c63b7fb2",
   "metadata": {},
   "outputs": [],
   "source": [
    "import pandas as pd\n",
    "from sklearn.model_selection import train_test_split\n",
    "from sklearn.preprocessing import LabelEncoder\n",
    "\n",
    "# Load the data\n",
    "data = pd.read_csv(\"balanced_loan_dataset.csv\", encoding='ISO-8859-1')\n",
    "\n",
    "# Drop unwanted columns\n",
    "data = data.drop(columns=[\n",
    "    'Unnamed: 0', 'id', 'member_id', \n",
    "    'open_acc', 'funded_amnt_inv', 'next_pymnt_d',\n",
    "    'last_credit_pull_d', 'last_pymnt_d', 'emp_length',\n",
    "    'mths_since_last_delinq', 'issue_d'\n",
    "], errors='ignore')\n",
    "\n",
    "# Fix percentage column\n",
    "data['revol_util'] = data['revol_util'].astype(str).str.replace('%', '')\n",
    "data['revol_util'] = pd.to_numeric(data['revol_util'], errors='coerce')\n",
    "\n",
    "# Fill missing values in 'revol_util' with the mean\n",
    "mean_value = data['revol_util'].mean()\n",
    "data['revol_util'] = data['revol_util'].fillna(mean_value)\n",
    "\n",
    "\n",
    "\n",
    "# Drop any rows that still have missing values\n",
    "data = data.dropna()\n",
    "\n",
    "# Use only these columns for training and prediction\n",
    "selected_features = ['loan_amnt', 'int_rate', 'installment', 'annual_inc', 'dti', 'revol_util', 'total_pymnt']\n",
    "\n",
    "# Define X and y\n",
    "X = data[selected_features]\n",
    "y = data[\"repay_fail\"]\n",
    "\n",
    "# Encode text columns into numbers\n",
    "for column in data.select_dtypes(include='object').columns:\n",
    "    data[column] = LabelEncoder().fit_transform(data[column].astype(str))\n",
    "\n",
    "\n",
    "# Train-test split\n",
    "X_train, X_test, y_train, y_test = train_test_split(X, y, test_size=0.2, random_state=15)"
   ]
  },
  {
   "cell_type": "code",
   "execution_count": 3,
   "id": "add90ebe-02b0-4742-a304-17e29ead3251",
   "metadata": {},
   "outputs": [
    {
     "name": "stdout",
     "output_type": "stream",
     "text": [
      "Accuracy: 0.906\n"
     ]
    }
   ],
   "source": [
    "from sklearn.linear_model import LogisticRegression\n",
    "from sklearn.metrics import accuracy_score\n",
    "\n",
    "model = LogisticRegression(max_iter=1000)\n",
    "model.fit(X_train, y_train)\n",
    "predictions = model.predict(X_test)\n",
    "\n",
    "print(\"Accuracy:\", accuracy_score(y_test, predictions))"
   ]
  },
  {
   "cell_type": "code",
   "execution_count": 45,
   "id": "361362fc-1350-4aff-a8b9-d3334fc1c9ea",
   "metadata": {},
   "outputs": [
    {
     "name": "stdout",
     "output_type": "stream",
     "text": [
      "Accuracy: 0.9456666666666667\n"
     ]
    }
   ],
   "source": [
    "from sklearn.tree import DecisionTreeClassifier\n",
    "\n",
    "model = DecisionTreeClassifier(\n",
    "    random_state=21,max_depth=10)\n",
    "model.fit(X_train, y_train)\n",
    "predictions = model.predict(X_test)\n",
    "\n",
    "print(\"Accuracy:\", accuracy_score(y_test, predictions))"
   ]
  },
  {
   "cell_type": "code",
   "execution_count": 49,
   "id": "316b5e22-b365-4574-863f-2ffa3f51b4c4",
   "metadata": {},
   "outputs": [
    {
     "name": "stdout",
     "output_type": "stream",
     "text": [
      "Accuracy: 0.9400833333333334\n"
     ]
    }
   ],
   "source": [
    "from sklearn.ensemble import RandomForestClassifier\n",
    "\n",
    "model = RandomForestClassifier(\n",
    "    max_depth=10,)\n",
    "model.fit(X_train, y_train)\n",
    "predictions = model.predict(X_test)\n",
    "\n",
    "print(\"Accuracy:\", accuracy_score(y_test, predictions))"
   ]
  },
  {
   "cell_type": "code",
   "execution_count": 33,
   "id": "77a20474-3eaa-45d2-a892-5424daa0a320",
   "metadata": {},
   "outputs": [
    {
     "name": "stdout",
     "output_type": "stream",
     "text": [
      "Accuracy: 0.974\n"
     ]
    }
   ],
   "source": [
    "import xgboost as xgb\n",
    "\n",
    "model = xgb.XGBClassifier(random_state=21)\n",
    "model.fit(X_train, y_train)\n",
    "predictions = model.predict(X_test)\n",
    "\n",
    "print(\"Accuracy:\", accuracy_score(y_test, predictions))"
   ]
  },
  {
   "cell_type": "code",
   "execution_count": 51,
   "id": "2180ef88-12de-4d41-9f5b-bdfc7d7b416b",
   "metadata": {},
   "outputs": [
    {
     "name": "stdout",
     "output_type": "stream",
     "text": [
      "* Running on local URL:  http://127.0.0.1:7864\n",
      "* Running on public URL: https://07634f5a457c4eaaf9.gradio.live\n",
      "\n",
      "This share link expires in 1 week. For free permanent hosting and GPU upgrades, run `gradio deploy` from the terminal in the working directory to deploy to Hugging Face Spaces (https://huggingface.co/spaces)\n"
     ]
    },
    {
     "data": {
      "text/html": [
       "<div><iframe src=\"https://07634f5a457c4eaaf9.gradio.live\" width=\"100%\" height=\"500\" allow=\"autoplay; camera; microphone; clipboard-read; clipboard-write;\" frameborder=\"0\" allowfullscreen></iframe></div>"
      ],
      "text/plain": [
       "<IPython.core.display.HTML object>"
      ]
     },
     "metadata": {},
     "output_type": "display_data"
    },
    {
     "data": {
      "text/plain": []
     },
     "execution_count": 51,
     "metadata": {},
     "output_type": "execute_result"
    }
   ],
   "source": [
    "import gradio as gr\n",
    "import matplotlib.pyplot as plt\n",
    "import numpy as np\n",
    "import pandas as pd\n",
    "from fpdf import FPDF\n",
    "\n",
    "# === Final Prediction Function with Reasoning ===\n",
    "def calculate_and_predict(loan_amnt, int_rate, installment, annual_income, \n",
    "                          monthly_debt, credit_balance, credit_limit, term_months):\n",
    "\n",
    "    # Derived Metrics\n",
    "    dti = round((monthly_debt / (annual_income / 12)) * 100, 2)\n",
    "    revol_util = round((credit_balance / credit_limit) * 100, 2)\n",
    "    total_pymnt = round(loan_amnt + (loan_amnt * int_rate * term_months / (100 * 12)), 2)\n",
    "\n",
    "    # Prediction Input\n",
    "    input_data = [[loan_amnt, int_rate, installment, annual_income, dti, revol_util, total_pymnt]]\n",
    "    prediction = model.predict(input_data)[0]\n",
    "\n",
    "    try:\n",
    "        probs = model.predict_proba(input_data)[0]\n",
    "    except:\n",
    "        probs = [0.5, 0.5]\n",
    "\n",
    "    # Generate Pie Chart\n",
    "    labels = ['🟢 Repaid (0)', '🔴 Defaulted (1)']\n",
    "    fig, ax = plt.subplots()\n",
    "    ax.pie(probs, labels=labels, autopct='%1.1f%%', colors=['#aed581', '#ef9a9a'])\n",
    "    ax.set_title(\"Prediction Probability Breakdown\")\n",
    "    chart_path = \"prediction_chart.png\"\n",
    "    fig.savefig(chart_path)\n",
    "    plt.close(fig)\n",
    "\n",
    "    # Final Prediction Message\n",
    "    plain_result = \"Loan will be REPAID\" if prediction == 0 else \"Loan will DEFAULT\"\n",
    "    final_result = f\"<div style='color:{'#2e7d32' if prediction == 0 else '#c62828'};font-weight:bold;font-size:18px;'>🟢 {plain_result}</div>\"\n",
    "\n",
    "    # Reasoning\n",
    "    reasons = []\n",
    "    if dti < 35:\n",
    "        reasons.append(\"✅ Low Debt-to-Income Ratio\")\n",
    "    else:\n",
    "        reasons.append(\"⚠️ High Debt-to-Income Ratio\")\n",
    "\n",
    "    if revol_util < 30:\n",
    "        reasons.append(\"✅ Low Revolving Credit Usage\")\n",
    "    else:\n",
    "        reasons.append(\"⚠️ High Credit Usage\")\n",
    "\n",
    "    if annual_income > 100000:\n",
    "        reasons.append(\"✅ Good Annual Income\")\n",
    "    else:\n",
    "        reasons.append(\"⚠️ Low Annual Income\")\n",
    "\n",
    "    if int_rate < 15 and installment < 0.4 * (annual_income / 12):\n",
    "        reasons.append(\"✅ Affordable Interest and EMI\")\n",
    "    else:\n",
    "        reasons.append(\"⚠️ Risky Interest/EMI\")\n",
    "\n",
    "    reason_block = \"<br>\".join(reasons)\n",
    "\n",
    "    return f\"{dti}%\", f\"{revol_util}%\", f\"₹{total_pymnt}\", final_result, reason_block, chart_path\n",
    "\n",
    "# === Gradio UI ===\n",
    "with gr.Blocks() as ui:\n",
    "    gr.Markdown(\"# 💼 Loan Default Prediction Tool\")\n",
    "    gr.Markdown(\"Use the form on the left to enter loan application details. Results will be displayed on the right.\")\n",
    "\n",
    "    with gr.Row():\n",
    "        with gr.Column():\n",
    "            annual_income = gr.Number(label=\"🧾 Annual Income (₹)\")\n",
    "            monthly_debt = gr.Number(label=\"💳 Total Monthly Debt (₹)\")\n",
    "            credit_balance = gr.Number(label=\"🔄 Credit Balance (₹)\")\n",
    "            credit_limit = gr.Number(label=\"🏦 Credit Limit (₹)\")\n",
    "            loan_amnt = gr.Number(label=\"💰 Loan Amount (₹)\")\n",
    "            int_rate = gr.Number(label=\"📈 Interest Rate (%)\")\n",
    "            term_months = gr.Number(label=\"⏳ Loan Term (months)\")\n",
    "            installment = gr.Number(label=\"📆 Installment (₹/month)\")\n",
    "            submit = gr.Button(\"🔍 Predict Now\")\n",
    "\n",
    "        with gr.Column():\n",
    "            dti_out = gr.Textbox(label=\"📉 DTI (%)\")\n",
    "            revol_out = gr.Textbox(label=\"🔁 Revolving Utilization (%)\")\n",
    "            total_pymnt_out = gr.Textbox(label=\"💸 Total Payment Made\")\n",
    "            pred_out = gr.HTML(label=\"🎯 Final Prediction\")\n",
    "            reason_out = gr.HTML(label=\"📌 Reason for Decision\")\n",
    "            chart_out = gr.Image(label=\"📈 Prediction Chart\")\n",
    "\n",
    "    submit.click(\n",
    "        fn=calculate_and_predict,\n",
    "        inputs=[loan_amnt, int_rate, installment, annual_income, monthly_debt, credit_balance, credit_limit, term_months],\n",
    "        outputs=[dti_out, revol_out, total_pymnt_out, pred_out, reason_out, chart_out]\n",
    "    )\n",
    "\n",
    "ui.launch(share=True)\n"
   ]
  },
  {
   "cell_type": "code",
   "execution_count": null,
   "id": "20725c8b-5aae-4cf7-8daf-e71a074ef695",
   "metadata": {},
   "outputs": [],
   "source": []
  }
 ],
 "metadata": {
  "kernelspec": {
   "display_name": "Python 3 (ipykernel)",
   "language": "python",
   "name": "python3"
  },
  "language_info": {
   "codemirror_mode": {
    "name": "ipython",
    "version": 3
   },
   "file_extension": ".py",
   "mimetype": "text/x-python",
   "name": "python",
   "nbconvert_exporter": "python",
   "pygments_lexer": "ipython3",
   "version": "3.12.4"
  }
 },
 "nbformat": 4,
 "nbformat_minor": 5
}
